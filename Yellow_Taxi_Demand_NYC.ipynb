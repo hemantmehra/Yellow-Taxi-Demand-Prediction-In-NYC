{
  "nbformat": 4,
  "nbformat_minor": 0,
  "metadata": {
    "colab": {
      "name": "Yellow-Taxi-Demand-NYC.ipynb",
      "version": "0.3.2",
      "provenance": []
    },
    "kernelspec": {
      "name": "python3",
      "display_name": "Python 3"
    }
  },
  "cells": [
    {
      "metadata": {
        "id": "epPckBKShWHA",
        "colab_type": "text"
      },
      "cell_type": "markdown",
      "source": [
        "# Yellow Taxi Demand Prediction in New York City"
      ]
    },
    {
      "metadata": {
        "id": "DhQ7EGp6htCx",
        "colab_type": "text"
      },
      "cell_type": "markdown",
      "source": [
        "## Libraries"
      ]
    },
    {
      "metadata": {
        "id": "N2I5dVAthUsh",
        "colab_type": "code",
        "colab": {}
      },
      "cell_type": "code",
      "source": [
        "# !pip install graphviz\n",
        "# !pip install cloudpickle\n",
        "# !pip install dask\n",
        "# !pip install toolz\n",
        "# !pip install xgboost\n",
        "# !pip install folium\n",
        "# !pip install gpxpy\n",
        "# !apt-get install graphviz"
      ],
      "execution_count": 0,
      "outputs": []
    },
    {
      "metadata": {
        "id": "VMISMCznh4Td",
        "colab_type": "code",
        "colab": {}
      },
      "cell_type": "code",
      "source": [
        "# For dataframes\n",
        "import dask.dataframe as dd\n",
        "import pandas as pd\n",
        "\n",
        "# Open Street Map\n",
        "import folium\n",
        "\n",
        "# UNIX time conversion\n",
        "import datetime\n",
        "import time\n",
        "\n",
        "# Arithmetic operations on array\n",
        "import numpy as np\n",
        "\n",
        "# Plotting\n",
        "import matplotlib\n",
        "import matplotlib.pylab as plt\n",
        "import seaborn as sns\n",
        "from matplotlib import rcParams\n",
        "\n",
        "# For calculating distance between two points in miles\n",
        "import gpxpy.geo\n",
        "\n",
        "# For clustering\n",
        "from sklearn.cluster import MiniBatchKMeans, KMeans\n",
        "\n",
        "import math\n",
        "import pickle\n",
        "import os\n",
        "\n",
        "# ML models\n",
        "import xgboost as xgb\n",
        "from sklearn.ensemble import RandomForestRegressor\n",
        "\n",
        "# Performance Metrics\n",
        "from sklearn.metrics import mean_squared_error\n",
        "from sklearn.metrics import mean_absolute_error\n",
        "\n",
        "import warnings\n",
        "warnings.filterwarnings(\"ignore\")"
      ],
      "execution_count": 0,
      "outputs": []
    },
    {
      "metadata": {
        "id": "pzjSbNKFltmb",
        "colab_type": "text"
      },
      "cell_type": "markdown",
      "source": [
        "## Data Information"
      ]
    },
    {
      "metadata": {
        "id": "4X2Kip9xl8Oo",
        "colab_type": "text"
      },
      "cell_type": "markdown",
      "source": [
        "Data Source - NYC Taxi and Limousine Commission (TLC) - https://www.nyc.gov/html/tlc/html/about/trip_record_data.shtml\n"
      ]
    },
    {
      "metadata": {
        "id": "-zXYFEgYmr34",
        "colab_type": "text"
      },
      "cell_type": "markdown",
      "source": [
        "### Information on Taxies\n",
        "#### Yellow Taxi: Yellow Medallion Taxicabs\n",
        "These are the famous NYC yellow taxis that provide transportation exclusively through street-hails. The number of taxicabs is limited by a finite number of medallions issued by the TLC. You access this mode of transportation by standing in the street and hailing an available taxi with your hand. The pickups are not pre-arranged.\n",
        "#### For Hire Vehicles (FHVs)\n",
        "FHV transportation is accessed by a pre-arrangement with a dispatcher or limo company. These FHVs are not permitted to pick up passengers via street hails, as those rides are not considered pre-arranged.\n",
        "#### Green Taxi: Street Hail Livery (SHL)\n",
        "The SHL program will allow livery vehicle owners to license and outfit their vehicles with green borough taxi branding, meters, credit card machines, and ultimately the right to accept street hails in addition to pre-arranged rides.\n",
        "\n",
        "Credits: [Quora](https://www.quora.com/What-is-the-difference-between-Green-Cabs-and-Yellow-Cabs)"
      ]
    },
    {
      "metadata": {
        "id": "4gawbH-yn8HW",
        "colab_type": "text"
      },
      "cell_type": "markdown",
      "source": [
        "## Data Collection\n",
        "\n",
        "Yellow Taxi trip data of 2016"
      ]
    },
    {
      "metadata": {
        "id": "-Z0_LDuIlyS-",
        "colab_type": "code",
        "colab": {}
      },
      "cell_type": "code",
      "source": [
        "import requests\n",
        "url = \"https://s3.amazonaws.com/nyc-tlc/trip+data/yellow_tripdata_2016-01.csv\"\n",
        "filename = url.split(\"/\")[-1]\n",
        "with open(filename, \"wb\") as f:\n",
        "  r = requests.get(url)\n",
        "  f.write(r.content)"
      ],
      "execution_count": 0,
      "outputs": []
    },
    {
      "metadata": {
        "id": "6mpuQUJRpWMc",
        "colab_type": "code",
        "colab": {
          "base_uri": "https://localhost:8080/",
          "height": 136
        },
        "outputId": "3c68475b-96f7-48dd-f5af-1b9eea102977"
      },
      "cell_type": "code",
      "source": [
        "month = dd.read_csv('yellow_tripdata_2016-01.csv')\n",
        "print(month.columns)"
      ],
      "execution_count": 24,
      "outputs": [
        {
          "output_type": "stream",
          "text": [
            "Index(['VendorID', 'tpep_pickup_datetime', 'tpep_dropoff_datetime',\n",
            "       'passenger_count', 'trip_distance', 'pickup_longitude',\n",
            "       'pickup_latitude', 'RatecodeID', 'store_and_fwd_flag',\n",
            "       'dropoff_longitude', 'dropoff_latitude', 'payment_type', 'fare_amount',\n",
            "       'extra', 'mta_tax', 'tip_amount', 'tolls_amount',\n",
            "       'improvement_surcharge', 'total_amount'],\n",
            "      dtype='object')\n"
          ],
          "name": "stdout"
        }
      ]
    },
    {
      "metadata": {
        "id": "WatlBN7KrQeH",
        "colab_type": "text"
      },
      "cell_type": "markdown",
      "source": [
        "## Features in Dataset\n",
        "**Source** - http://www.nyc.gov/html/tlc/downloads/pdf/data_dictionary_trip_records_yellow.pdf\n",
        "<table border=\"1\">\n",
        "    <tr>\n",
        "        <th>Field Name</th>\n",
        "        <th>Description</th>\n",
        "    </tr>\n",
        "    <tr>\n",
        "        <td>VendorID</td>\n",
        "        <td>\n",
        "        A code indicating the TPEP provider that provided the record.\n",
        "        <ol>\n",
        "          <li>Creative Mobile Technologies</li>\n",
        "          <li>VeriFone Inc.</li>\n",
        "        </ol>\n",
        "        </td>\n",
        "    </tr>\n",
        "    <tr>\n",
        "        <td>tpep_pickup_datetime</td>\n",
        "        <td>The date and time when the meter was engaged.</td>\n",
        "    </tr>\n",
        "    <tr>\n",
        "        <td>tpep_dropoff_datetime</td>\n",
        "        <td>The date and time when the meter was disengaged.</td>\n",
        "    </tr>\n",
        "    <tr>\n",
        "        <td>Passenger_count</td>\n",
        "        <td>The number of passengers in the vehicle. This is a driver-entered value.</td>\n",
        "    </tr>\n",
        "    <tr>\n",
        "        <td>Trip_distance</td>\n",
        "        <td>The elapsed trip distance in miles reported by the taximeter.</td>\n",
        "    </tr>\n",
        "\t<tr>\n",
        "\t\t<td>Pickup_longitude</td>\n",
        "\t\t<td>Longitude where the meter was engaged.</td>\n",
        "\t</tr>\n",
        "\t<tr>\n",
        "\t\t<td>Pickup_latitude</td>\n",
        "\t\t<td>Latitude where the meter was engaged.</td>\n",
        "\t</tr>\n",
        "\t<tr>\n",
        "\t\t<td>RateCodeID</td>\n",
        "\t\t<td>The final rate code in effect at the end of the trip.\n",
        "\t\t<ol>\n",
        "\t\t\t<li> Standard rate </li>\n",
        "\t\t\t<li> JFK </li>\n",
        "\t\t\t<li> Newark </li>\n",
        "\t\t\t<li> Nassau or Westchester</li>\n",
        "\t\t\t<li> Negotiated fare </li>\n",
        "\t\t\t<li> Group ride</li>\n",
        "\t\t</ol>\n",
        "\t\t</td>\n",
        "\t</tr>\n",
        "    <tr>\n",
        "        <td>Store_and_fwd_flag</td>\n",
        "        <td>\n",
        "            This flag indicates whether the trip record was held in vehicle memory before sending to the vendor,<br> \n",
        "            aka “store and forward,” because the vehicle did not have a connection to the server.<br>\n",
        "            Y= store and forward trip<br>\n",
        "            N= not a store and forward trip\n",
        "        </td>\n",
        "    </tr>\n",
        "\t<tr>\n",
        "\t\t<td>Dropoff_longitude</td>\n",
        "\t\t<td>Longitude where the meter was disengaged.</td>\n",
        "\t</tr>\n",
        "\t<tr>\n",
        "\t\t<td>Dropoff_ latitude</td>\n",
        "\t\t<td>Latitude where the meter was disengaged.</td>\n",
        "\t</tr>\n",
        "\t<tr>\n",
        "\t\t<td>Payment_type</td>\n",
        "\t\t<td>A numeric code signifying how the passenger paid for the trip.\n",
        "\t\t<ol>\n",
        "\t\t\t<li> Credit card </li>\n",
        "\t\t\t<li> Cash </li>\n",
        "\t\t\t<li> No charge </li>\n",
        "\t\t\t<li> Dispute</li>\n",
        "\t\t\t<li> Unknown </li>\n",
        "\t\t\t<li> Voided trip</li>\n",
        "\t\t</ol>\n",
        "\t\t</td>\n",
        "\t</tr>\n",
        "\t<tr>\n",
        "\t\t<td>Fare_amount</td>\n",
        "\t\t<td>The time-and-distance fare calculated by the meter.</td>\n",
        "\t</tr>\n",
        "\t<tr>\n",
        "\t\t<td>Extra</td>\n",
        "\t\t<td>Miscellaneous extras and surcharges. Currently, this only includes. the $0.50 and $1 rush hour and overnight charges.</td>\n",
        "\t</tr>\n",
        "\t<tr>\n",
        "\t\t<td>MTA_tax</td>\n",
        "\t\t<td>0.50 MTA tax that is automatically triggered based on the metered rate in use.</td>\n",
        "\t</tr>\n",
        "\t<tr>\n",
        "\t\t<td>Improvement_surcharge</td>\n",
        "\t\t<td>0.30 improvement surcharge assessed trips at the flag drop. the improvement surcharge began being levied in 2015.</td>\n",
        "\t</tr>\n",
        "\t<tr>\n",
        "\t\t<td>Tip_amount</td>\n",
        "\t\t<td>Tip amount – This field is automatically populated for credit card tips.Cash tips are not included.</td>\n",
        "\t</tr>\n",
        "\t<tr>\n",
        "\t\t<td>Tolls_amount</td>\n",
        "\t\t<td>Total amount of all tolls paid in trip.</td>\n",
        "\t</tr>\n",
        "\t<tr>\n",
        "\t\t<td>Total_amount</td>\n",
        "\t\t<td>The total amount charged to passengers. Does not include cash tips.</td>\n",
        "\t</tr>\n",
        "</table>"
      ]
    },
    {
      "metadata": {
        "id": "RY3jhgr_q000",
        "colab_type": "code",
        "colab": {}
      },
      "cell_type": "code",
      "source": [
        ""
      ],
      "execution_count": 0,
      "outputs": []
    }
  ]
}